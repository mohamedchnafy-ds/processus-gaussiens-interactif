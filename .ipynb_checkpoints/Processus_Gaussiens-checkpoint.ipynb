{
 "cells": [
  {
   "cell_type": "markdown",
   "id": "c22cce96-07c1-46bf-8670-cdf248982da3",
   "metadata": {},
   "source": [
    "## Traitement d'image avec des modèles de mélanges gaussiens"
   ]
  },
  {
   "cell_type": "markdown",
   "id": "52589752-16bd-40a0-b31c-cbc244f1e99c",
   "metadata": {},
   "source": [
    "## 1. Introduction"
   ]
  },
  {
   "cell_type": "markdown",
   "id": "6d0675ae-dd75-4f23-a323-c70f1b5b768b",
   "metadata": {},
   "source": [
    "### 1.1 Avant propos"
   ]
  },
  {
   "cell_type": "markdown",
   "id": "245ce1ab-3446-45f4-863a-9e9c9b7c6f9f",
   "metadata": {},
   "source": [
    "Ce projet a nécessité l'utilisation de deux logiciels :\n",
    "\n",
    " - Rédaction du rapport et présentation : $\\LaTeX$ pour la rédaction\n",
    " - Langages et logiciels de programmation : Python"
   ]
  },
  {
   "cell_type": "code",
   "execution_count": null,
   "id": "25236129-3d4a-4c12-9e6f-a952d2a5f8f1",
   "metadata": {},
   "outputs": [],
   "source": []
  }
 ],
 "metadata": {
  "kernelspec": {
   "display_name": "Python 3 (ipykernel)",
   "language": "python",
   "name": "python3"
  },
  "language_info": {
   "codemirror_mode": {
    "name": "ipython",
    "version": 3
   },
   "file_extension": ".py",
   "mimetype": "text/x-python",
   "name": "python",
   "nbconvert_exporter": "python",
   "pygments_lexer": "ipython3",
   "version": "3.11.7"
  }
 },
 "nbformat": 4,
 "nbformat_minor": 5
}
